{
 "cells": [
  {
   "cell_type": "code",
   "execution_count": null,
   "id": "b6303352",
   "metadata": {},
   "outputs": [],
   "source": [
    "import requests\n",
    "import pandas as pd\n",
    "from bs4 import BeautifulSoup"
   ]
  },
  {
   "cell_type": "code",
   "execution_count": null,
   "id": "247bdd74",
   "metadata": {},
   "outputs": [],
   "source": [
    "# IMDB's homepage\n",
    "imdb_url = 'https://www.imdb.com'\n",
    "\n",
    "# Use requests to retrieve data from a given URL\n",
    "imdb_response = requests.get(imdb_url)\n",
    "\n",
    "# Parse the whole HTML page using BeautifulSoup\n",
    "imdb_soup = BeautifulSoup(imdb_response.text, 'html.parser')\n",
    "\n",
    "# Title of the parsed page\n",
    "imdb_soup.title.text"
   ]
  },
  {
   "cell_type": "code",
   "execution_count": null,
   "id": "29c6f1cd",
   "metadata": {},
   "outputs": [],
   "source": [
    "# Find all links\n",
    "links = [link.get('href') for link in imdb_soup.find_all('a')]\n",
    "\n",
    "# Add homepage and keep the unique links\n",
    "fixed_links = set([''.join([imdb_url, link]) for link in links if link])\n",
    "\n",
    "\n",
    "unique_links = []\n",
    "for link in links:\n",
    "    if not link in unique_links:\n",
    "        unique_links.append(imdb_url + link)"
   ]
  },
  {
   "cell_type": "code",
   "execution_count": null,
   "id": "f6616ff8",
   "metadata": {},
   "outputs": [],
   "source": [
    "# Box Office Mojo - UK Weekend box office\n",
    "boxofficemojo_url = 'https://www.boxofficemojo.com/intl/uk/?yr=2019&wk=33&currency=local'\n",
    "\n",
    "# Use requests to retrieve data from a given URL\n",
    "bom_response = requests.get(boxofficemojo_url)\n",
    "\n",
    "# Parse the whole HTML page using BeautifulSoup\n",
    "bom_soup = BeautifulSoup(bom_response.text, 'html.parser')"
   ]
  },
  {
   "cell_type": "code",
   "execution_count": null,
   "id": "0fe0d2b8",
   "metadata": {},
   "outputs": [],
   "source": [
    "print(f\"NUMBER OF TABLES IN THE PAGE: {len(bom_soup.find_all('table'))}\")\n",
    "\n",
    "table = bom_soup.find_all('table')[0]\n",
    "\n",
    "table"
   ]
  },
  {
   "cell_type": "code",
   "execution_count": null,
   "id": "31525081",
   "metadata": {},
   "outputs": [],
   "source": [
    "table.find_all('tr')[0].contents"
   ]
  },
  {
   "cell_type": "code",
   "execution_count": null,
   "id": "caee8477",
   "metadata": {},
   "outputs": [],
   "source": [
    "table.find_all('tr')[0].text.split('\\n')"
   ]
  },
  {
   "cell_type": "code",
   "execution_count": null,
   "id": "ddd2e93d",
   "metadata": {},
   "outputs": [],
   "source": [
    "lst = []\n",
    "for row in table.find_all('tr')[1:]:\n",
    "    s = pd.Series([data.text for data in row.find_all('td')])\n",
    "    lst.append(s)\n",
    "    \n",
    "data = pd.concat(lst, axis=1).T\n",
    "\n",
    "data.head(2)\n",
    "\n",
    "print(f'(MOVIES, COLUMNS) -> {data.shape}')\n",
    "\n",
    "print(f'% OF MISSING VALUES PER COLUMN\\n{(data.isnull().sum() / data.shape[0]) * 100}')"
   ]
  }
 ],
 "metadata": {
  "interpreter": {
   "hash": "e42634819b8c191a5d07eaf23810ff32516dd8d3875f28ec3e488928fbd3c187"
  },
  "kernelspec": {
   "display_name": "Python 3.8.8 ('base')",
   "language": "python",
   "name": "python3"
  },
  "language_info": {
   "codemirror_mode": {
    "name": "ipython",
    "version": 3
   },
   "file_extension": ".py",
   "mimetype": "text/x-python",
   "name": "python",
   "nbconvert_exporter": "python",
   "pygments_lexer": "ipython3",
   "version": "3.8.8"
  }
 },
 "nbformat": 4,
 "nbformat_minor": 5
}
