{
 "cells": [
  {
   "cell_type": "code",
   "execution_count": null,
   "metadata": {
    "id": "2ihQOMcrgmW_"
   },
   "outputs": [],
   "source": [
    "# ! pip install kora -q"
   ]
  },
  {
   "cell_type": "code",
   "execution_count": null,
   "metadata": {
    "id": "4FswEd-8gy2f"
   },
   "outputs": [],
   "source": [
    "from bs4 import BeautifulSoup"
   ]
  },
  {
   "cell_type": "code",
   "execution_count": null,
   "metadata": {
    "id": "vHiFWN9Ug357"
   },
   "outputs": [],
   "source": [
    "from kora.selenium import wd\n",
    "wd.get('https://www.amazon.in/')"
   ]
  },
  {
   "cell_type": "code",
   "execution_count": null,
   "metadata": {
    "colab": {
     "base_uri": "https://localhost:8080/",
     "height": 123
    },
    "id": "W5k_9gF-hI66",
    "outputId": "db68c5f4-086e-4165-bd0e-f03a81ffcec1"
   },
   "outputs": [],
   "source": [
    "# wd.page_source"
   ]
  },
  {
   "cell_type": "code",
   "execution_count": null,
   "metadata": {
    "id": "rgzoLLjuhNuW"
   },
   "outputs": [],
   "source": [
    "from selenium import webdriver\n",
    "options = webdriver.ChromeOptions()\n",
    "options.add_argument('-headless')\n",
    "options.add_argument('-no-sandbox')\n",
    "options.add_argument('-disable-dev-shm-usage')"
   ]
  },
  {
   "cell_type": "code",
   "execution_count": null,
   "metadata": {
    "colab": {
     "base_uri": "https://localhost:8080/"
    },
    "id": "oZtduG8DhZ86",
    "outputId": "82cd3785-67d7-469c-95e0-ae521c67a0c9"
   },
   "outputs": [],
   "source": [
    "wd = webdriver.Chrome('chromedriver',options=options)\n",
    "wd.get(\"https://www.amazon.in/\")\n",
    "print(wd.page_source) # results"
   ]
  },
  {
   "cell_type": "code",
   "execution_count": null,
   "metadata": {
    "id": "fvy9M5nFhnAW"
   },
   "outputs": [],
   "source": [
    "def get_url(search_term):\n",
    "    template = \"https://www.amazon.in/s?k={}&rh=n%3A1389401031&ref=nb_sb_noss\"\n",
    "    search_term = search_term.replace(' ','+')\n",
    "    return template.format(search_term)"
   ]
  },
  {
   "cell_type": "code",
   "execution_count": null,
   "metadata": {
    "colab": {
     "base_uri": "https://localhost:8080/"
    },
    "id": "S_aW8k6khrTx",
    "outputId": "865cf326-1f11-4d12-f504-687706cdc3d8"
   },
   "outputs": [],
   "source": [
    "url = get_url('laptops')\n",
    "print(url)"
   ]
  },
  {
   "cell_type": "code",
   "execution_count": null,
   "metadata": {
    "colab": {
     "base_uri": "https://localhost:8080/"
    },
    "id": "WW6tvdKvhx_v",
    "outputId": "31893623-f58a-4501-ce44-ceefc57f953a"
   },
   "outputs": [],
   "source": [
    "wd.get(url)\n",
    "soup = BeautifulSoup(wd.page_source, 'html.parser')\n",
    "\n",
    "result = soup.find_all('div',{'data-component-type':'s-search-result'})\n",
    "len(result)\n",
    "print(result[2])"
   ]
  },
  {
   "cell_type": "code",
   "execution_count": null,
   "metadata": {
    "colab": {
     "base_uri": "https://localhost:8080/",
     "height": 36
    },
    "id": "bXtX3pj9h8QF",
    "outputId": "bffaf450-28dc-444b-d643-91d735d31ac1"
   },
   "outputs": [],
   "source": [
    "item = result[2]\n",
    "\n",
    "atag = item.h2.a\n",
    "\n",
    "atag.text"
   ]
  },
  {
   "cell_type": "code",
   "execution_count": null,
   "metadata": {
    "colab": {
     "base_uri": "https://localhost:8080/",
     "height": 36
    },
    "id": "ycFcMu3miCUP",
    "outputId": "1a09d2df-6425-4c74-d0de-d887a29c98b9"
   },
   "outputs": [],
   "source": [
    "price_parent = item.find('span','a-price')\n",
    "\n",
    "price_parent.find('span','a-offscreen').text"
   ]
  },
  {
   "cell_type": "code",
   "execution_count": null,
   "metadata": {
    "colab": {
     "base_uri": "https://localhost:8080/"
    },
    "id": "wehlWUdqicWt",
    "outputId": "5f999c93-6eb8-4915-c447-c09c9d45938f"
   },
   "outputs": [],
   "source": [
    "rating = item.i.text\n",
    "print(rating)"
   ]
  },
  {
   "cell_type": "code",
   "execution_count": null,
   "metadata": {
    "colab": {
     "base_uri": "https://localhost:8080/"
    },
    "id": "n2pDfxzWikyV",
    "outputId": "b54ce85a-45f8-472a-caf0-b3459fc9c126"
   },
   "outputs": [],
   "source": [
    "review_count = item.find('span', {'class':'a-size-base','dir':'auto'})\n",
    "\n",
    "print(review_count)"
   ]
  },
  {
   "cell_type": "code",
   "execution_count": null,
   "metadata": {
    "id": "4c-gPM9YkSlg"
   },
   "outputs": [],
   "source": [
    "def extract_record(item1):\n",
    "  atag = item1.h2.a\n",
    "  description = atag.text.strip()\n",
    "  url = \"https://www.amazon.in/\" + atag.get('href')\n",
    "\n",
    "  price_parent = item1.find('span','a-price')\n",
    "  #price_parent.find('span','a-offscreen').text\n",
    "\n",
    "  rating = \"\"\n",
    "  result = (description, price_parent, rating)\n",
    "  return result"
   ]
  },
  {
   "cell_type": "code",
   "execution_count": null,
   "metadata": {
    "id": "v52eSEd2kZic"
   },
   "outputs": [],
   "source": [
    "url = get_url('mouse')\n",
    "\n",
    "\n",
    "wd.get(url)\n",
    "soup = BeautifulSoup(wd.page_source, 'html.parser')\n",
    "records = []\n",
    "results = soup.find_all('div',{'data-component-type':'s-search-result'})"
   ]
  },
  {
   "cell_type": "code",
   "execution_count": null,
   "metadata": {
    "colab": {
     "base_uri": "https://localhost:8080/"
    },
    "id": "yWBAyOTHudu7",
    "outputId": "44b22185-08a7-46eb-b7cf-1ae3dfa69cdd"
   },
   "outputs": [],
   "source": [
    "for item in results:\n",
    "    records.append(extract_record(item))\n",
    "\n",
    "\n",
    "records[0]\n",
    "print(\"printing records\")\n",
    "for x in range(len(records)):\n",
    "    print(records[x])"
   ]
  }
 ],
 "metadata": {
  "colab": {
   "name": "WMP1.ipynb",
   "provenance": []
  },
  "interpreter": {
   "hash": "e42634819b8c191a5d07eaf23810ff32516dd8d3875f28ec3e488928fbd3c187"
  },
  "kernelspec": {
   "display_name": "Python 3.8.8 ('base')",
   "language": "python",
   "name": "python3"
  },
  "language_info": {
   "codemirror_mode": {
    "name": "ipython",
    "version": 3
   },
   "file_extension": ".py",
   "mimetype": "text/x-python",
   "name": "python",
   "nbconvert_exporter": "python",
   "pygments_lexer": "ipython3",
   "version": "3.8.8"
  }
 },
 "nbformat": 4,
 "nbformat_minor": 1
}
