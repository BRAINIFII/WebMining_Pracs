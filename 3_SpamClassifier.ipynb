{
 "cells": [
  {
   "cell_type": "code",
   "execution_count": 20,
   "metadata": {
    "id": "B358fOnrnniu"
   },
   "outputs": [],
   "source": [
    "import numpy as np\n",
    "import pandas as pd\n",
    "import matplotlib.pyplot as plt\n",
    "import seaborn as sns\n",
    "import scipy as sp\n",
    "# from google.colab import drive\n",
    "from sklearn import feature_extraction, model_selection, naive_bayes, metrics, svm\n",
    "from sklearn.ensemble import RandomForestClassifier\n",
    "from sklearn.model_selection import train_test_split\n",
    "from sklearn.metrics import precision_recall_fscore_support as score"
   ]
  },
  {
   "cell_type": "code",
   "execution_count": 21,
   "metadata": {
    "colab": {
     "base_uri": "https://localhost:8080/"
    },
    "executionInfo": {
     "elapsed": 3249,
     "status": "ok",
     "timestamp": 1652367257876,
     "user": {
      "displayName": "Lucky dubey",
      "userId": "03545018147732918490"
     },
     "user_tz": -330
    },
    "id": "2WMP1h7On58x",
    "outputId": "fda1cd71-1354-4cf5-ad40-cf1dbae7f50a"
   },
   "outputs": [],
   "source": [
    "# drive.mount('/content/drive')"
   ]
  },
  {
   "cell_type": "code",
   "execution_count": 22,
   "metadata": {
    "id": "SY8c6zxxpo_F"
   },
   "outputs": [],
   "source": [
    "# dataset =pd.read_csv(\"/content/drive/My Drive/spam.csv\", encoding='latin-1')\n",
    "dataset =pd.read_csv(\"spam.csv\", encoding='latin-1')"
   ]
  },
  {
   "cell_type": "code",
   "execution_count": 23,
   "metadata": {
    "colab": {
     "base_uri": "https://localhost:8080/",
     "height": 206
    },
    "executionInfo": {
     "elapsed": 567,
     "status": "ok",
     "timestamp": 1652367265412,
     "user": {
      "displayName": "Lucky dubey",
      "userId": "03545018147732918490"
     },
     "user_tz": -330
    },
    "id": "UctAnYVUqfuZ",
    "outputId": "ec435dbc-4f33-43a4-934a-e96f2fc24a0d"
   },
   "outputs": [
    {
     "data": {
      "text/html": [
       "<div>\n",
       "<style scoped>\n",
       "    .dataframe tbody tr th:only-of-type {\n",
       "        vertical-align: middle;\n",
       "    }\n",
       "\n",
       "    .dataframe tbody tr th {\n",
       "        vertical-align: top;\n",
       "    }\n",
       "\n",
       "    .dataframe thead th {\n",
       "        text-align: right;\n",
       "    }\n",
       "</style>\n",
       "<table border=\"1\" class=\"dataframe\">\n",
       "  <thead>\n",
       "    <tr style=\"text-align: right;\">\n",
       "      <th></th>\n",
       "      <th>v1</th>\n",
       "      <th>v2</th>\n",
       "      <th>Unnamed: 2</th>\n",
       "      <th>Unnamed: 3</th>\n",
       "      <th>Unnamed: 4</th>\n",
       "    </tr>\n",
       "  </thead>\n",
       "  <tbody>\n",
       "    <tr>\n",
       "      <th>0</th>\n",
       "      <td>ham</td>\n",
       "      <td>Go until jurong point, crazy.. Available only ...</td>\n",
       "      <td>NaN</td>\n",
       "      <td>NaN</td>\n",
       "      <td>NaN</td>\n",
       "    </tr>\n",
       "    <tr>\n",
       "      <th>1</th>\n",
       "      <td>ham</td>\n",
       "      <td>Ok lar... Joking wif u oni...</td>\n",
       "      <td>NaN</td>\n",
       "      <td>NaN</td>\n",
       "      <td>NaN</td>\n",
       "    </tr>\n",
       "    <tr>\n",
       "      <th>2</th>\n",
       "      <td>spam</td>\n",
       "      <td>Free entry in 2 a wkly comp to win FA Cup fina...</td>\n",
       "      <td>NaN</td>\n",
       "      <td>NaN</td>\n",
       "      <td>NaN</td>\n",
       "    </tr>\n",
       "    <tr>\n",
       "      <th>3</th>\n",
       "      <td>ham</td>\n",
       "      <td>U dun say so early hor... U c already then say...</td>\n",
       "      <td>NaN</td>\n",
       "      <td>NaN</td>\n",
       "      <td>NaN</td>\n",
       "    </tr>\n",
       "    <tr>\n",
       "      <th>4</th>\n",
       "      <td>ham</td>\n",
       "      <td>Nah I don't think he goes to usf, he lives aro...</td>\n",
       "      <td>NaN</td>\n",
       "      <td>NaN</td>\n",
       "      <td>NaN</td>\n",
       "    </tr>\n",
       "  </tbody>\n",
       "</table>\n",
       "</div>"
      ],
      "text/plain": [
       "     v1                                                 v2 Unnamed: 2  \\\n",
       "0   ham  Go until jurong point, crazy.. Available only ...        NaN   \n",
       "1   ham                      Ok lar... Joking wif u oni...        NaN   \n",
       "2  spam  Free entry in 2 a wkly comp to win FA Cup fina...        NaN   \n",
       "3   ham  U dun say so early hor... U c already then say...        NaN   \n",
       "4   ham  Nah I don't think he goes to usf, he lives aro...        NaN   \n",
       "\n",
       "  Unnamed: 3 Unnamed: 4  \n",
       "0        NaN        NaN  \n",
       "1        NaN        NaN  \n",
       "2        NaN        NaN  \n",
       "3        NaN        NaN  \n",
       "4        NaN        NaN  "
      ]
     },
     "execution_count": 23,
     "metadata": {},
     "output_type": "execute_result"
    }
   ],
   "source": [
    "dataset.head()"
   ]
  },
  {
   "cell_type": "code",
   "execution_count": 24,
   "metadata": {
    "id": "ob0hpuIXq0F3"
   },
   "outputs": [
    {
     "data": {
      "text/html": [
       "<div>\n",
       "<style scoped>\n",
       "    .dataframe tbody tr th:only-of-type {\n",
       "        vertical-align: middle;\n",
       "    }\n",
       "\n",
       "    .dataframe tbody tr th {\n",
       "        vertical-align: top;\n",
       "    }\n",
       "\n",
       "    .dataframe thead th {\n",
       "        text-align: right;\n",
       "    }\n",
       "</style>\n",
       "<table border=\"1\" class=\"dataframe\">\n",
       "  <thead>\n",
       "    <tr style=\"text-align: right;\">\n",
       "      <th></th>\n",
       "      <th>v1</th>\n",
       "      <th>v2</th>\n",
       "    </tr>\n",
       "  </thead>\n",
       "  <tbody>\n",
       "    <tr>\n",
       "      <th>0</th>\n",
       "      <td>ham</td>\n",
       "      <td>Go until jurong point, crazy.. Available only ...</td>\n",
       "    </tr>\n",
       "    <tr>\n",
       "      <th>1</th>\n",
       "      <td>ham</td>\n",
       "      <td>Ok lar... Joking wif u oni...</td>\n",
       "    </tr>\n",
       "    <tr>\n",
       "      <th>2</th>\n",
       "      <td>spam</td>\n",
       "      <td>Free entry in 2 a wkly comp to win FA Cup fina...</td>\n",
       "    </tr>\n",
       "    <tr>\n",
       "      <th>3</th>\n",
       "      <td>ham</td>\n",
       "      <td>U dun say so early hor... U c already then say...</td>\n",
       "    </tr>\n",
       "    <tr>\n",
       "      <th>4</th>\n",
       "      <td>ham</td>\n",
       "      <td>Nah I don't think he goes to usf, he lives aro...</td>\n",
       "    </tr>\n",
       "  </tbody>\n",
       "</table>\n",
       "</div>"
      ],
      "text/plain": [
       "     v1                                                 v2\n",
       "0   ham  Go until jurong point, crazy.. Available only ...\n",
       "1   ham                      Ok lar... Joking wif u oni...\n",
       "2  spam  Free entry in 2 a wkly comp to win FA Cup fina...\n",
       "3   ham  U dun say so early hor... U c already then say...\n",
       "4   ham  Nah I don't think he goes to usf, he lives aro..."
      ]
     },
     "execution_count": 24,
     "metadata": {},
     "output_type": "execute_result"
    }
   ],
   "source": [
    "#removing unnamed columns\n",
    "dataset = dataset.drop('Unnamed: 2', 1)\n",
    "dataset = dataset.drop('Unnamed: 3', 1)\n",
    "dataset = dataset.drop('Unnamed: 4', 1)\n",
    "dataset.head()"
   ]
  },
  {
   "cell_type": "code",
   "execution_count": 25,
   "metadata": {
    "id": "KyvyCk7pq6SP"
   },
   "outputs": [],
   "source": [
    "dataset = dataset.rename(columns = {'v1':'label','v2':'message'})"
   ]
  },
  {
   "cell_type": "code",
   "execution_count": 26,
   "metadata": {
    "colab": {
     "base_uri": "https://localhost:8080/",
     "height": 175
    },
    "executionInfo": {
     "elapsed": 395,
     "status": "ok",
     "timestamp": 1652367422478,
     "user": {
      "displayName": "Lucky dubey",
      "userId": "03545018147732918490"
     },
     "user_tz": -330
    },
    "id": "5Ip5Y_SMq_yH",
    "outputId": "6ba231d6-00c6-4bdc-bffc-5a2cfd06c1d5"
   },
   "outputs": [
    {
     "data": {
      "text/html": [
       "<div>\n",
       "<style scoped>\n",
       "    .dataframe tbody tr th:only-of-type {\n",
       "        vertical-align: middle;\n",
       "    }\n",
       "\n",
       "    .dataframe tbody tr th {\n",
       "        vertical-align: top;\n",
       "    }\n",
       "\n",
       "    .dataframe thead tr th {\n",
       "        text-align: left;\n",
       "    }\n",
       "\n",
       "    .dataframe thead tr:last-of-type th {\n",
       "        text-align: right;\n",
       "    }\n",
       "</style>\n",
       "<table border=\"1\" class=\"dataframe\">\n",
       "  <thead>\n",
       "    <tr>\n",
       "      <th></th>\n",
       "      <th colspan=\"4\" halign=\"left\">message</th>\n",
       "    </tr>\n",
       "    <tr>\n",
       "      <th></th>\n",
       "      <th>count</th>\n",
       "      <th>unique</th>\n",
       "      <th>top</th>\n",
       "      <th>freq</th>\n",
       "    </tr>\n",
       "    <tr>\n",
       "      <th>label</th>\n",
       "      <th></th>\n",
       "      <th></th>\n",
       "      <th></th>\n",
       "      <th></th>\n",
       "    </tr>\n",
       "  </thead>\n",
       "  <tbody>\n",
       "    <tr>\n",
       "      <th>ham</th>\n",
       "      <td>4825</td>\n",
       "      <td>4516</td>\n",
       "      <td>Sorry, I'll call later</td>\n",
       "      <td>30</td>\n",
       "    </tr>\n",
       "    <tr>\n",
       "      <th>spam</th>\n",
       "      <td>747</td>\n",
       "      <td>653</td>\n",
       "      <td>Please call our customer service representativ...</td>\n",
       "      <td>4</td>\n",
       "    </tr>\n",
       "  </tbody>\n",
       "</table>\n",
       "</div>"
      ],
      "text/plain": [
       "      message                                                               \n",
       "        count unique                                                top freq\n",
       "label                                                                       \n",
       "ham      4825   4516                             Sorry, I'll call later   30\n",
       "spam      747    653  Please call our customer service representativ...    4"
      ]
     },
     "execution_count": 26,
     "metadata": {},
     "output_type": "execute_result"
    }
   ],
   "source": [
    "dataset.groupby('label').describe()"
   ]
  },
  {
   "cell_type": "code",
   "execution_count": 27,
   "metadata": {
    "colab": {
     "base_uri": "https://localhost:8080/",
     "height": 175
    },
    "executionInfo": {
     "elapsed": 374,
     "status": "ok",
     "timestamp": 1652367511288,
     "user": {
      "displayName": "Lucky dubey",
      "userId": "03545018147732918490"
     },
     "user_tz": -330
    },
    "id": "U3BeG4XhrBvN",
    "outputId": "dc4f70d9-2cbd-4254-bfd4-3526cdcd10be"
   },
   "outputs": [
    {
     "data": {
      "text/html": [
       "<div>\n",
       "<style scoped>\n",
       "    .dataframe tbody tr th:only-of-type {\n",
       "        vertical-align: middle;\n",
       "    }\n",
       "\n",
       "    .dataframe tbody tr th {\n",
       "        vertical-align: top;\n",
       "    }\n",
       "\n",
       "    .dataframe thead th {\n",
       "        text-align: right;\n",
       "    }\n",
       "</style>\n",
       "<table border=\"1\" class=\"dataframe\">\n",
       "  <thead>\n",
       "    <tr style=\"text-align: right;\">\n",
       "      <th></th>\n",
       "      <th>label</th>\n",
       "      <th>message</th>\n",
       "    </tr>\n",
       "  </thead>\n",
       "  <tbody>\n",
       "    <tr>\n",
       "      <th>0</th>\n",
       "      <td>ham</td>\n",
       "      <td>Go until jurong point, crazy.. Available only ...</td>\n",
       "    </tr>\n",
       "    <tr>\n",
       "      <th>1</th>\n",
       "      <td>ham</td>\n",
       "      <td>Ok lar... Joking wif u oni...</td>\n",
       "    </tr>\n",
       "    <tr>\n",
       "      <th>2</th>\n",
       "      <td>spam</td>\n",
       "      <td>Free entry in 2 a wkly comp to win FA Cup fina...</td>\n",
       "    </tr>\n",
       "    <tr>\n",
       "      <th>3</th>\n",
       "      <td>ham</td>\n",
       "      <td>U dun say so early hor... U c already then say...</td>\n",
       "    </tr>\n",
       "  </tbody>\n",
       "</table>\n",
       "</div>"
      ],
      "text/plain": [
       "  label                                            message\n",
       "0   ham  Go until jurong point, crazy.. Available only ...\n",
       "1   ham                      Ok lar... Joking wif u oni...\n",
       "2  spam  Free entry in 2 a wkly comp to win FA Cup fina...\n",
       "3   ham  U dun say so early hor... U c already then say..."
      ]
     },
     "execution_count": 27,
     "metadata": {},
     "output_type": "execute_result"
    }
   ],
   "source": [
    "dataset.head(4)"
   ]
  },
  {
   "cell_type": "code",
   "execution_count": 28,
   "metadata": {
    "colab": {
     "base_uri": "https://localhost:8080/",
     "height": 299
    },
    "executionInfo": {
     "elapsed": 414,
     "status": "ok",
     "timestamp": 1652367684659,
     "user": {
      "displayName": "Lucky dubey",
      "userId": "03545018147732918490"
     },
     "user_tz": -330
    },
    "id": "3WbwXlEKrFsd",
    "outputId": "1c809135-193f-4101-bdfa-25d20dd5de6a"
   },
   "outputs": [
    {
     "data": {
      "image/png": "[encoded data removed]",
      "text/plain": [
       "<Figure size 432x288 with 1 Axes>"
      ]
     },
     "metadata": {
      "needs_background": "light"
     },
     "output_type": "display_data"
    }
   ],
   "source": [
    "count_Class=pd.value_counts(dataset[\"label\"], sort= True)\n",
    "count_Class.plot(kind = 'bar',color = [\"green\",\"red\"])\n",
    "plt.title('Bar Plot')\n",
    "plt.show()"
   ]
  },
  {
   "cell_type": "code",
   "execution_count": 29,
   "metadata": {
    "colab": {
     "base_uri": "https://localhost:8080/"
    },
    "executionInfo": {
     "elapsed": 367,
     "status": "ok",
     "timestamp": 1652367797884,
     "user": {
      "displayName": "Lucky dubey",
      "userId": "03545018147732918490"
     },
     "user_tz": -330
    },
    "id": "fglV1UesrMIt",
    "outputId": "de2eb6e6-e039-43f4-e196-87b47c646df9"
   },
   "outputs": [
    {
     "data": {
      "text/plain": [
       "(5572, 8404)"
      ]
     },
     "execution_count": 29,
     "metadata": {},
     "output_type": "execute_result"
    }
   ],
   "source": [
    "f = feature_extraction.text.CountVectorizer(stop_words = 'english')\n",
    "X = f.fit_transform(dataset[\"message\"])\n",
    "np.shape(X)"
   ]
  },
  {
   "cell_type": "code",
   "execution_count": 30,
   "metadata": {
    "colab": {
     "base_uri": "https://localhost:8080/"
    },
    "executionInfo": {
     "elapsed": 2808,
     "status": "ok",
     "timestamp": 1652367871243,
     "user": {
      "displayName": "Lucky dubey",
      "userId": "03545018147732918490"
     },
     "user_tz": -330
    },
    "id": "e3E13KnjrUNd",
    "outputId": "e5721941-df06-4f28-ee6a-c24dc876370b"
   },
   "outputs": [
    {
     "name": "stdout",
     "output_type": "stream",
     "text": [
      "Precision : 0.99 / Recall : 0.728 / fscore : 0.839 / Accuracy: 0.963\n"
     ]
    }
   ],
   "source": [
    "# Classifying spam and not spam msgs as 1 and 0\n",
    "\n",
    "dataset[\"label\"]=dataset[\"label\"].map({'spam':1,'ham':0})\n",
    "X_train, X_test, y_train, y_test = model_selection.train_test_split(X, dataset['label'], test_size=0.70, random_state=42)\n",
    "\n",
    "list_alpha = np.arange(1/100000, 20, 0.11)\n",
    "score_train = np.zeros(len(list_alpha))\n",
    "score_test = np.zeros(len(list_alpha))\n",
    "recall_test = np.zeros(len(list_alpha))\n",
    "precision_test= np.zeros(len(list_alpha))\n",
    "count = 0\n",
    "for alpha in list_alpha:\n",
    "    bayes = naive_bayes.MultinomialNB(alpha=alpha)\n",
    "    bayes.fit(X_train, y_train)\n",
    "    score_train[count] = bayes.score(X_train, y_train)\n",
    "    score_test[count]= bayes.score(X_test, y_test)\n",
    "    recall_test[count] = metrics.recall_score(y_test, bayes.predict(X_test))\n",
    "    precision_test[count] = metrics.precision_score(y_test, bayes.predict(X_test))\n",
    "    count = count + 1\n",
    "\n",
    "matrix = np.matrix(np.c_[list_alpha, score_train, score_test, recall_test, precision_test])\n",
    "models = pd.DataFrame(data = matrix, columns = \n",
    "             ['alpha', 'Train Accuracy', 'Test Accuracy', 'Test Recall', 'Test Precision'])\n",
    "models.head(n=10)\n",
    "\n",
    "best_index = models['Test Precision'].idxmax()\n",
    "models.iloc[best_index, :]\n",
    "\n",
    "rf = RandomForestClassifier(n_estimators=100,max_depth=None,n_jobs=-1)\n",
    "rf_model = rf.fit(X_train,y_train)\n",
    "\n",
    "y_pred=rf_model.predict(X_test)\n",
    "precision,recall,fscore,support =score(y_test,y_pred,pos_label=1, average ='binary')\n",
    "print('Precision : {} / Recall : {} / fscore : {} / Accuracy: {}'.format(round(precision,3),round(recall,3),round(fscore,3),round((y_pred==y_test).sum()/len(y_test),3)))\n"
   ]
  },
  {
   "cell_type": "code",
   "execution_count": 31,
   "metadata": {},
   "outputs": [],
   "source": [
    "# !pip install keras.utils"
   ]
  },
  {
   "cell_type": "code",
   "execution_count": 32,
   "metadata": {
    "colab": {
     "base_uri": "https://localhost:8080/"
    },
    "executionInfo": {
     "elapsed": 51762,
     "status": "ok",
     "timestamp": 1652368349781,
     "user": {
      "displayName": "Lucky dubey",
      "userId": "03545018147732918490"
     },
     "user_tz": -330
    },
    "id": "JTvfSkD8rjnS",
    "outputId": "ede77b6a-60fc-4c2e-ab4c-e9f5a5550147"
   },
   "outputs": [
    {
     "name": "stdout",
     "output_type": "stream",
     "text": [
      "Model: \"sequential_3\"\n",
      "_________________________________________________________________\n",
      " Layer (type)                Output Shape              Param #   \n",
      "=================================================================\n",
      " embedding_3 (Embedding)     (None, 250, 16)           6400      \n",
      "                                                                 \n",
      " global_average_pooling1d_3   (None, 16)               0         \n",
      " (GlobalAveragePooling1D)                                        \n",
      "                                                                 \n",
      " dense_6 (Dense)             (None, 24)                408       \n",
      "                                                                 \n",
      " dense_7 (Dense)             (None, 1)                 25        \n",
      "                                                                 \n",
      "=================================================================\n",
      "Total params: 6,833\n",
      "Trainable params: 6,833\n",
      "Non-trainable params: 0\n",
      "_________________________________________________________________\n",
      "Epoch 1/50\n"
     ]
    },
    {
     "name": "stderr",
     "output_type": "stream",
     "text": [
      "<ipython-input-32-c8195c793053>:25: VisibleDeprecationWarning: Creating an ndarray from ragged nested sequences (which is a list-or-tuple of lists-or-tuples-or ndarrays with different lengths or shapes) is deprecated. If you meant to do this, you must specify 'dtype=object' when creating the ndarray.\n",
      "  X = np.array(X)\n"
     ]
    },
    {
     "name": "stdout",
     "output_type": "stream",
     "text": [
      "140/140 - 1s - loss: 0.5306 - accuracy: 0.8537 - val_loss: 0.3848 - val_accuracy: 0.8700 - 1s/epoch - 8ms/step\n",
      "Epoch 2/50\n",
      "140/140 - 0s - loss: 0.3826 - accuracy: 0.8649 - val_loss: 0.3677 - val_accuracy: 0.8700 - 400ms/epoch - 3ms/step\n",
      "Epoch 3/50\n",
      "140/140 - 0s - loss: 0.3713 - accuracy: 0.8649 - val_loss: 0.3574 - val_accuracy: 0.8700 - 356ms/epoch - 3ms/step\n",
      "Epoch 4/50\n",
      "140/140 - 0s - loss: 0.3561 - accuracy: 0.8649 - val_loss: 0.3373 - val_accuracy: 0.8700 - 378ms/epoch - 3ms/step\n",
      "Epoch 5/50\n",
      "140/140 - 0s - loss: 0.3252 - accuracy: 0.8647 - val_loss: 0.2921 - val_accuracy: 0.8700 - 344ms/epoch - 2ms/step\n",
      "Epoch 6/50\n",
      "140/140 - 0s - loss: 0.2638 - accuracy: 0.8685 - val_loss: 0.2190 - val_accuracy: 0.8879 - 331ms/epoch - 2ms/step\n",
      "Epoch 7/50\n",
      "140/140 - 0s - loss: 0.1928 - accuracy: 0.9287 - val_loss: 0.1611 - val_accuracy: 0.9381 - 322ms/epoch - 2ms/step\n",
      "Epoch 8/50\n",
      "140/140 - 0s - loss: 0.1492 - accuracy: 0.9515 - val_loss: 0.1314 - val_accuracy: 0.9623 - 368ms/epoch - 3ms/step\n",
      "Epoch 9/50\n",
      "140/140 - 1s - loss: 0.1263 - accuracy: 0.9607 - val_loss: 0.1118 - val_accuracy: 0.9623 - 515ms/epoch - 4ms/step\n",
      "Epoch 10/50\n",
      "140/140 - 0s - loss: 0.1111 - accuracy: 0.9657 - val_loss: 0.0968 - val_accuracy: 0.9668 - 365ms/epoch - 3ms/step\n",
      "Epoch 11/50\n",
      "140/140 - 0s - loss: 0.1009 - accuracy: 0.9679 - val_loss: 0.0870 - val_accuracy: 0.9713 - 432ms/epoch - 3ms/step\n",
      "Epoch 12/50\n",
      "140/140 - 0s - loss: 0.0920 - accuracy: 0.9702 - val_loss: 0.0794 - val_accuracy: 0.9713 - 359ms/epoch - 3ms/step\n",
      "Epoch 13/50\n",
      "140/140 - 0s - loss: 0.0852 - accuracy: 0.9726 - val_loss: 0.0754 - val_accuracy: 0.9704 - 361ms/epoch - 3ms/step\n",
      "Epoch 14/50\n",
      "140/140 - 0s - loss: 0.0800 - accuracy: 0.9729 - val_loss: 0.0685 - val_accuracy: 0.9767 - 409ms/epoch - 3ms/step\n",
      "Epoch 15/50\n",
      "140/140 - 0s - loss: 0.0744 - accuracy: 0.9751 - val_loss: 0.0649 - val_accuracy: 0.9785 - 350ms/epoch - 3ms/step\n",
      "Epoch 16/50\n",
      "140/140 - 0s - loss: 0.0696 - accuracy: 0.9760 - val_loss: 0.0619 - val_accuracy: 0.9785 - 369ms/epoch - 3ms/step\n",
      "Epoch 17/50\n",
      "140/140 - 0s - loss: 0.0678 - accuracy: 0.9771 - val_loss: 0.0622 - val_accuracy: 0.9776 - 385ms/epoch - 3ms/step\n",
      "Epoch 18/50\n",
      "140/140 - 0s - loss: 0.0643 - accuracy: 0.9789 - val_loss: 0.0557 - val_accuracy: 0.9812 - 363ms/epoch - 3ms/step\n",
      "Epoch 19/50\n",
      "140/140 - 0s - loss: 0.0611 - accuracy: 0.9791 - val_loss: 0.0581 - val_accuracy: 0.9821 - 351ms/epoch - 3ms/step\n",
      "Epoch 20/50\n",
      "140/140 - 0s - loss: 0.0591 - accuracy: 0.9803 - val_loss: 0.0523 - val_accuracy: 0.9812 - 371ms/epoch - 3ms/step\n",
      "Epoch 21/50\n",
      "140/140 - 0s - loss: 0.0568 - accuracy: 0.9809 - val_loss: 0.0514 - val_accuracy: 0.9830 - 423ms/epoch - 3ms/step\n",
      "Epoch 22/50\n",
      "140/140 - 0s - loss: 0.0560 - accuracy: 0.9812 - val_loss: 0.0597 - val_accuracy: 0.9803 - 369ms/epoch - 3ms/step\n",
      "Epoch 23/50\n",
      "140/140 - 0s - loss: 0.0538 - accuracy: 0.9818 - val_loss: 0.0498 - val_accuracy: 0.9839 - 381ms/epoch - 3ms/step\n",
      "Epoch 24/50\n",
      "140/140 - 0s - loss: 0.0526 - accuracy: 0.9827 - val_loss: 0.0484 - val_accuracy: 0.9865 - 402ms/epoch - 3ms/step\n",
      "Epoch 25/50\n",
      "140/140 - 0s - loss: 0.0510 - accuracy: 0.9836 - val_loss: 0.0467 - val_accuracy: 0.9865 - 354ms/epoch - 3ms/step\n",
      "Epoch 26/50\n",
      "140/140 - 1s - loss: 0.0488 - accuracy: 0.9829 - val_loss: 0.0511 - val_accuracy: 0.9830 - 508ms/epoch - 4ms/step\n",
      "Epoch 27/50\n",
      "140/140 - 0s - loss: 0.0474 - accuracy: 0.9841 - val_loss: 0.0459 - val_accuracy: 0.9874 - 376ms/epoch - 3ms/step\n",
      "Epoch 28/50\n",
      "140/140 - 0s - loss: 0.0470 - accuracy: 0.9843 - val_loss: 0.0452 - val_accuracy: 0.9874 - 371ms/epoch - 3ms/step\n",
      "Epoch 29/50\n",
      "140/140 - 0s - loss: 0.0456 - accuracy: 0.9845 - val_loss: 0.0450 - val_accuracy: 0.9874 - 420ms/epoch - 3ms/step\n",
      "Epoch 30/50\n",
      "140/140 - 0s - loss: 0.0448 - accuracy: 0.9852 - val_loss: 0.0439 - val_accuracy: 0.9874 - 427ms/epoch - 3ms/step\n",
      "Epoch 31/50\n",
      "140/140 - 0s - loss: 0.0438 - accuracy: 0.9852 - val_loss: 0.0442 - val_accuracy: 0.9883 - 387ms/epoch - 3ms/step\n",
      "Epoch 32/50\n",
      "140/140 - 0s - loss: 0.0433 - accuracy: 0.9854 - val_loss: 0.0437 - val_accuracy: 0.9883 - 368ms/epoch - 3ms/step\n",
      "Epoch 33/50\n",
      "140/140 - 0s - loss: 0.0404 - accuracy: 0.9859 - val_loss: 0.0654 - val_accuracy: 0.9803 - 337ms/epoch - 2ms/step\n",
      "Epoch 34/50\n",
      "140/140 - 0s - loss: 0.0428 - accuracy: 0.9859 - val_loss: 0.0446 - val_accuracy: 0.9883 - 392ms/epoch - 3ms/step\n",
      "Epoch 35/50\n",
      "140/140 - 0s - loss: 0.0390 - accuracy: 0.9874 - val_loss: 0.0430 - val_accuracy: 0.9892 - 406ms/epoch - 3ms/step\n",
      "Epoch 36/50\n",
      "140/140 - 0s - loss: 0.0400 - accuracy: 0.9865 - val_loss: 0.0439 - val_accuracy: 0.9883 - 353ms/epoch - 3ms/step\n",
      "Epoch 37/50\n",
      "140/140 - 1s - loss: 0.0392 - accuracy: 0.9863 - val_loss: 0.0419 - val_accuracy: 0.9901 - 641ms/epoch - 5ms/step\n",
      "Epoch 38/50\n",
      "140/140 - 1s - loss: 0.0385 - accuracy: 0.9863 - val_loss: 0.0421 - val_accuracy: 0.9892 - 930ms/epoch - 7ms/step\n",
      "Epoch 39/50\n",
      "140/140 - 1s - loss: 0.0369 - accuracy: 0.9874 - val_loss: 0.0416 - val_accuracy: 0.9901 - 1s/epoch - 8ms/step\n",
      "Epoch 40/50\n",
      "140/140 - 1s - loss: 0.0373 - accuracy: 0.9886 - val_loss: 0.0417 - val_accuracy: 0.9901 - 822ms/epoch - 6ms/step\n",
      "Epoch 41/50\n",
      "140/140 - 1s - loss: 0.0358 - accuracy: 0.9874 - val_loss: 0.0414 - val_accuracy: 0.9901 - 734ms/epoch - 5ms/step\n",
      "Epoch 42/50\n",
      "140/140 - 1s - loss: 0.0349 - accuracy: 0.9881 - val_loss: 0.0413 - val_accuracy: 0.9901 - 727ms/epoch - 5ms/step\n",
      "Epoch 43/50\n",
      "140/140 - 1s - loss: 0.0347 - accuracy: 0.9879 - val_loss: 0.0422 - val_accuracy: 0.9865 - 791ms/epoch - 6ms/step\n",
      "Epoch 44/50\n",
      "140/140 - 1s - loss: 0.0337 - accuracy: 0.9883 - val_loss: 0.0412 - val_accuracy: 0.9901 - 980ms/epoch - 7ms/step\n",
      "Epoch 45/50\n",
      "140/140 - 1s - loss: 0.0334 - accuracy: 0.9883 - val_loss: 0.0411 - val_accuracy: 0.9901 - 895ms/epoch - 6ms/step\n",
      "Epoch 46/50\n",
      "140/140 - 1s - loss: 0.0330 - accuracy: 0.9886 - val_loss: 0.0415 - val_accuracy: 0.9901 - 920ms/epoch - 7ms/step\n",
      "Epoch 47/50\n",
      "140/140 - 1s - loss: 0.0336 - accuracy: 0.9901 - val_loss: 0.0430 - val_accuracy: 0.9901 - 798ms/epoch - 6ms/step\n",
      "Epoch 48/50\n",
      "140/140 - 1s - loss: 0.0321 - accuracy: 0.9895 - val_loss: 0.0412 - val_accuracy: 0.9883 - 701ms/epoch - 5ms/step\n",
      "Epoch 49/50\n",
      "140/140 - 1s - loss: 0.0303 - accuracy: 0.9904 - val_loss: 0.0437 - val_accuracy: 0.9901 - 886ms/epoch - 6ms/step\n",
      "Epoch 50/50\n",
      "140/140 - 1s - loss: 0.0307 - accuracy: 0.9906 - val_loss: 0.0426 - val_accuracy: 0.9874 - 750ms/epoch - 5ms/step\n",
      "35/35 [==============================] - 0s 5ms/step - loss: 0.0426 - accuracy: 0.9874\n",
      "[+] Accuracy: 98.74%\n"
     ]
    }
   ],
   "source": [
    "import tensorflow as tf\n",
    "from keras_preprocessing.text import Tokenizer\n",
    "from keras.layers import Embedding, LSTM, Dropout, Dense\n",
    "from keras.models import Sequential\n",
    "from tensorflow.keras.utils import to_categorical\n",
    "#from keras.utils import to_categorical\n",
    "from keras_preprocessing.sequence import pad_sequences\n",
    "import tensorflow as tf\n",
    "\n",
    "vocab_size = 400\n",
    "oov_tok = \"<OOV>\"\n",
    "max_length = 250\n",
    "embedding_dim = 16\n",
    "encode = ({'ham': 0, 'spam': 1} )\n",
    "#new dataset with replaced values\n",
    "dataset = dataset.replace(encode)\n",
    "\n",
    "X = dataset['message']\n",
    "Y = dataset['label']\n",
    "tokenizer = Tokenizer(num_words=vocab_size, oov_token=oov_tok)\n",
    "tokenizer.fit_on_texts(X)\n",
    "# convert to sequence of integers\n",
    "X = tokenizer.texts_to_sequences(X)\n",
    "\n",
    "X = np.array(X)\n",
    "y = np.array(Y)\n",
    "\n",
    "X = pad_sequences(X, maxlen=max_length)\n",
    "\n",
    "model = tf.keras.Sequential([\n",
    "    tf.keras.layers.Embedding(vocab_size, embedding_dim, input_length=max_length),\n",
    "    tf.keras.layers.GlobalAveragePooling1D(),\n",
    "    tf.keras.layers.Dense(24, activation='relu'),\n",
    "    tf.keras.layers.Dense(1, activation='sigmoid')\n",
    "])\n",
    "model.compile(loss='binary_crossentropy',optimizer='adam',metrics=['accuracy'])\n",
    "model.summary()\n",
    "\n",
    "num_epochs = 50\n",
    "X_train, X_test, y_train, y_test = train_test_split(X, Y, test_size=.20, random_state=7)\n",
    "history = model.fit(X_train, y_train, epochs=num_epochs, validation_data=(X_test,y_test), verbose=2)\n",
    "\n",
    "results = model.evaluate(X_test, y_test)\n",
    "loss = results[0]\n",
    "accuracy = results[1]\n",
    "\n",
    "\n",
    "print(f\"[+] Accuracy: {accuracy*100:.2f}%\")"
   ]
  },
  {
   "cell_type": "code",
   "execution_count": 43,
   "metadata": {},
   "outputs": [
    {
     "name": "stdout",
     "output_type": "stream",
     "text": [
      "1/1 [==============================] - 0s 54ms/step\n",
      "SPAM MESSAGE\n",
      "1/1 [==============================] - 0s 56ms/step\n",
      "NOT SPAM\n"
     ]
    }
   ],
   "source": [
    "from keras_preprocessing import sequence\n",
    "\n",
    "#Defining the function\n",
    "def get_predictions(txts):\n",
    "    txts = tokenizer.texts_to_sequences(txts)\n",
    "    txts = sequence.pad_sequences(txts, maxlen=max_length)\n",
    "    preds = model.predict(txts)\n",
    "    if(preds[0] > 0.5):\n",
    "        print(\"SPAM MESSAGE\")\n",
    "    else:\n",
    "        print('NOT SPAM')\n",
    "\n",
    "txts=[\"You have won a free ticket to las vegas. Contact now\"]\n",
    "\n",
    "get_predictions(txts)\n",
    "\n",
    "txts=[\"Hey there call me asap!!\"]\n",
    "\n",
    "get_predictions(txts)"
   ]
  }
 ],
 "metadata": {
  "colab": {
   "authorship_tag": "ABX9TyMCBHC2e4d+Gy+NyAR2m9ee",
   "name": "Copy of prac 4.ipynb",
   "provenance": [
    {
     "file_id": "1aidNHEVUODUtDAU36s_alnPkFURA9n1c",
     "timestamp": 1652282513076
    }
   ]
  },
  "interpreter": {
   "hash": "e42634819b8c191a5d07eaf23810ff32516dd8d3875f28ec3e488928fbd3c187"
  },
  "kernelspec": {
   "display_name": "Python 3.8.8 ('base')",
   "language": "python",
   "name": "python3"
  },
  "language_info": {
   "codemirror_mode": {
    "name": "ipython",
    "version": 3
   },
   "file_extension": ".py",
   "mimetype": "text/x-python",
   "name": "python",
   "nbconvert_exporter": "python",
   "pygments_lexer": "ipython3",
   "version": "3.8.8"
  }
 },
 "nbformat": 4,
 "nbformat_minor": 1
}
